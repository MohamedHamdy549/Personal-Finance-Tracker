{
 "cells": [
  {
   "cell_type": "markdown",
   "id": "fbc0fac8-e38d-4a0a-afd1-70c44c6ee25c",
   "metadata": {},
   "source": [
    "# Personal Finance Tracker"
   ]
  },
  {
   "cell_type": "markdown",
   "id": "7e70cf20-1686-4c64-ba5d-d3d9c55e507f",
   "metadata": {},
   "source": [
    "## Importing libraries"
   ]
  },
  {
   "cell_type": "code",
   "execution_count": null,
   "id": "d7e6e785-f9db-48fd-9c3f-ce2b11ab5c4b",
   "metadata": {},
   "outputs": [],
   "source": [
    "import matplotlib.pyplot as plt\n",
    "import pandas as pd\n",
    "from datetime import datetime"
   ]
  },
  {
   "cell_type": "markdown",
   "id": "eac9297d-2350-4120-b152-a428501eedbb",
   "metadata": {},
   "source": [
    "## record_income"
   ]
  },
  {
   "cell_type": "code",
   "execution_count": null,
   "id": "edf41bf4-048b-40b9-8c65-47e8828b63b0",
   "metadata": {},
   "outputs": [],
   "source": [
    "def income():\n",
    "    l_incomes = []\n",
    "    while True:\n",
    "        while True:\n",
    "            try:\n",
    "                in_date = input('Please enter income date (yyyy-mm-dd): ')\n",
    "                datetime.strptime(in_date, '%Y-%m-%d')\n",
    "                break\n",
    "            except ValueError:\n",
    "                print('Wrong Date format! Try again...')\n",
    "\n",
    "        while True:\n",
    "            in_category = input('Please enter income category (allowance | salary | cash | other): ')\n",
    "            ls = ['allowance', 'salary', 'cash', 'other']\n",
    "            if in_category in ls:\n",
    "                break\n",
    "            else:\n",
    "                print('Invalid input! Please try again...')\n",
    "\n",
    "        while True:\n",
    "            try:\n",
    "                in_amount = float(input('Please enter income amount: '))\n",
    "                break\n",
    "            except ValueError:\n",
    "                print('Invalid input! Please try again...')\n",
    "\n",
    "        in_notes = input('Notes?: ')\n",
    "\n",
    "        in_dict = {\n",
    "            'Date': in_date,\n",
    "            'Category': in_category.lower(),\n",
    "            'Amount': in_amount,\n",
    "            'Note': in_notes\n",
    "        }\n",
    "\n",
    "        l_incomes.append(in_dict)\n",
    "\n",
    "        while True:\n",
    "            z = input('Another income? (y/n): ')\n",
    "            if z == 'n':\n",
    "                print(f'{len(l_incomes)} incomes have been recorded successfully!')\n",
    "                return l_incomes\n",
    "            elif z == 'y':\n",
    "                break\n",
    "            else:\n",
    "                print('Invalid input! Please try again...')\n"
   ]
  },
  {
   "cell_type": "code",
   "execution_count": null,
   "id": "908ed2fd-0745-4c21-8fee-649364853c1d",
   "metadata": {},
   "outputs": [],
   "source": [
    "#income()"
   ]
  },
  {
   "cell_type": "markdown",
   "id": "b688c39d-7333-498d-9848-6f4ba6e55d34",
   "metadata": {},
   "source": [
    "## record_expense"
   ]
  },
  {
   "cell_type": "code",
   "execution_count": null,
   "id": "6920d7ef-d5d0-4253-8e07-ae086c302d5b",
   "metadata": {},
   "outputs": [],
   "source": [
    "def expense():\n",
    "    l_expenses = []\n",
    "    while True:\n",
    "        while True:\n",
    "            try:\n",
    "                in_date = input('Please enter expense date (yyyy-mm-dd): ')\n",
    "                datetime.strptime(in_date, '%Y-%m-%d')\n",
    "                break\n",
    "            except ValueError:\n",
    "                print('Wrong Date format! Try again...')\n",
    "\n",
    "        while True:\n",
    "            in_category = input('Please enter expense category (food | household | transport | apparel | education | other): ')\n",
    "            ls = ['food', 'household', 'transport', 'apparel', 'education', 'other']\n",
    "            if in_category in ls:\n",
    "                break\n",
    "            else:\n",
    "                print('Invalid input! Please try again...')\n",
    "\n",
    "        while True:\n",
    "            try:\n",
    "                in_amount = float(input('Please enter expense amount: '))\n",
    "                break\n",
    "            except ValueError:\n",
    "                print('Invalid input! Please try again...')\n",
    "\n",
    "        in_notes = input('Notes?: ')\n",
    "\n",
    "        in_dict = {\n",
    "            'Date': in_date,\n",
    "            'Category': in_category.lower(),\n",
    "            'Amount': in_amount,\n",
    "            'Note': in_notes\n",
    "        }\n",
    "\n",
    "        l_expenses.append(in_dict)\n",
    "\n",
    "        while True:\n",
    "            z = input('Another expense? (y/n): ')\n",
    "            if z == 'n':\n",
    "                print(f'{len(l_expenses)} expenses have been recorded successfully!')\n",
    "                return l_expenses\n",
    "            elif z == 'y':\n",
    "                break\n",
    "            else:\n",
    "                print('Invalid input! Please try again...')"
   ]
  },
  {
   "cell_type": "code",
   "execution_count": null,
   "id": "eb042a42-9232-4514-b446-0562ea8a071b",
   "metadata": {},
   "outputs": [],
   "source": [
    "#expense()"
   ]
  },
  {
   "cell_type": "markdown",
   "id": "2764c628-9384-41eb-8250-fde012e3d527",
   "metadata": {},
   "source": [
    "## display_summary"
   ]
  },
  {
   "cell_type": "code",
   "execution_count": null,
   "id": "e3a3ef62-b4a4-46c6-be42-e4d88a7a8562",
   "metadata": {},
   "outputs": [],
   "source": [
    "def summaryy(income_list, expense_list):\n",
    "    # Convert lists to DataFrame for easy plotting and analysis\n",
    "    income_df = pd.DataFrame(income_list)\n",
    "    expense_df = pd.DataFrame(expense_list)\n",
    "\n",
    "    # Ensure 'Date' column is in datetime format for sorting and plotting\n",
    "    income_df['Date'] = pd.to_datetime(income_df['Date'])\n",
    "    expense_df['Date'] = pd.to_datetime(expense_df['Date'])\n",
    "\n",
    "    # Calculate total income, total expense, and remaining balance\n",
    "    total_income = income_df['Amount'].sum() if not income_df.empty else 0\n",
    "    total_expense = expense_df['Amount'].sum() if not expense_df.empty else 0\n",
    "    remaining_balance = total_income - total_expense\n",
    "\n",
    "    print(f'Total Income: {total_income}')\n",
    "    print(f'Total Expense: {total_expense}')\n",
    "    print(f'Remaining Balance: {remaining_balance}')\n",
    "\n",
    "    # Bar chart for income and expense amounts over time\n",
    "    plt.figure(figsize=(10, 5))\n",
    "    plt.bar(income_df['Date'], income_df['Amount'], color='green', label='Income')\n",
    "    plt.bar(expense_df['Date'], expense_df['Amount'], color='red', label='Expense', alpha=0.6)\n",
    "    plt.xlabel('Date')\n",
    "    plt.ylabel('Amount')\n",
    "    plt.title(f'Income and Expense Over Time (Remaining Balance: {remaining_balance})')\n",
    "    plt.legend()\n",
    "    plt.show()\n",
    "\n",
    "    # Settings for pie charts to match desired style\n",
    "    explode = [0.05] * len(income_df['Category'].unique())  # Explode all categories slightly\n",
    "    wedge_props = {'edgecolor': 'black'}\n",
    "\n",
    "    # Pie chart for income categories with values and percentages\n",
    "    plt.figure(figsize=(7, 7))\n",
    "    income_category_sum = income_df.groupby('Category')['Amount'].sum()\n",
    "    income_labels = [f'{cat}: {amount:.2f}' for cat, amount in income_category_sum.items()]\n",
    "    plt.pie(income_category_sum, labels=income_labels, autopct='%.2f%%', \n",
    "            colors=['#76c7c0', '#ffb3b3', '#ffc85c', '#6d7f7b'], shadow=True, startangle=90,\n",
    "            wedgeprops=wedge_props, explode=explode)\n",
    "    plt.title(f'Income Distribution by Category (Total: {total_income})')\n",
    "    plt.show()\n",
    "\n",
    "    # Pie chart for expense categories with values and percentages (matching style)\n",
    "    plt.figure(figsize=(7, 7))\n",
    "    expense_category_sum = expense_df.groupby('Category')['Amount'].sum()\n",
    "    expense_labels = [f'{cat}: {amount:.2f}' for cat, amount in expense_category_sum.items()]\n",
    "    plt.pie(expense_category_sum, labels=expense_labels, autopct='%.2f%%', \n",
    "            colors=['#ff9999', '#66b3ff', '#99ff99', '#ffcc99', '#c2c2f0', '#ffb3e6'], \n",
    "            shadow=True, startangle=90, wedgeprops=wedge_props, explode=explode)\n",
    "    plt.title(f'Expense Distribution by Category (Total: {total_expense})')\n",
    "    plt.show()\n",
    "\n",
    "    # Line plot for Income vs. Expense over time\n",
    "    plt.figure(figsize=(12, 6))\n",
    "    plt.plot(income_df['Date'], income_df['Amount'], color='green', marker='o', linestyle='-', label='Income')\n",
    "    plt.plot(expense_df['Date'], expense_df['Amount'], color='red', marker='o', linestyle='-', label='Expense')\n",
    "    plt.xlabel('Date')\n",
    "    plt.ylabel('Amount')\n",
    "    plt.title(f'Income vs. Expense Over Time (Remaining Balance: {remaining_balance})')\n",
    "    plt.legend()\n",
    "    plt.grid(True)\n",
    "    plt.show()\n"
   ]
  },
  {
   "cell_type": "markdown",
   "id": "130844f5-52c3-446a-908b-5a1c6a3c9fe4",
   "metadata": {},
   "source": [
    "## main\n"
   ]
  },
  {
   "cell_type": "code",
   "execution_count": null,
   "id": "59e93c28-3391-4d79-a905-ed1968c3b438",
   "metadata": {},
   "outputs": [],
   "source": [
    "def main():\n",
    "    l_incomes1 = []\n",
    "    l_expense1 = []\n",
    "    while True:\n",
    "        choose = int(input(\"\"\"Welcome to Personal Finance Tracker!\n",
    "        Choose by typing the number:\n",
    "        1- Enter Incomes\n",
    "        2- Enter Expenses\n",
    "        3- Show statistics ;)\n",
    "        0- Exit\n",
    "        \\n\"\"\"))\n",
    "    \n",
    "        if choose == 1:\n",
    "            inn = income()\n",
    "            l_incomes1.extend(inn)\n",
    "        elif choose == 2:\n",
    "            exp = expense()\n",
    "            l_expense1.extend(exp)\n",
    "        elif choose == 3:\n",
    "            summaryy(l_incomes1, l_expense1)\n",
    "        elif choose == 0:\n",
    "            print('Bye!')\n",
    "            break\n",
    "        else:\n",
    "            print('Invalid input! please try again...')\n",
    "            continue"
   ]
  },
  {
   "cell_type": "code",
   "execution_count": null,
   "id": "2ec94957-9756-4c18-a3ae-cebd95cda704",
   "metadata": {},
   "outputs": [],
   "source": [
    "if __name__ == \"__main__\":\n",
    "    main()"
   ]
  },
  {
   "cell_type": "code",
   "execution_count": null,
   "id": "27439849-4182-4137-b3b7-d7bfa1840601",
   "metadata": {},
   "outputs": [],
   "source": []
  }
 ],
 "metadata": {
  "kernelspec": {
   "display_name": "Python 3 (ipykernel)",
   "language": "python",
   "name": "python3"
  },
  "language_info": {
   "codemirror_mode": {
    "name": "ipython",
    "version": 3
   },
   "file_extension": ".py",
   "mimetype": "text/x-python",
   "name": "python",
   "nbconvert_exporter": "python",
   "pygments_lexer": "ipython3",
   "version": "3.12.4"
  }
 },
 "nbformat": 4,
 "nbformat_minor": 5
}
